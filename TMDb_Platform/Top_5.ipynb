{
 "cells": [
  {
   "cell_type": "markdown",
   "metadata": {},
   "source": [
    "#### Problem statement\n",
    "From this link,\n",
    "\n",
    "Find and print the name of the first 3 titles\n",
    "\n",
    "#### Output Format :\n",
    "title_name_1 \n",
    "title_name_2 \n",
    "title_name_3"
   ]
  },
  {
   "cell_type": "code",
   "execution_count": 2,
   "metadata": {},
   "outputs": [],
   "source": [
    "import requests\n",
    "from bs4 import BeautifulSoup"
   ]
  },
  {
   "cell_type": "code",
   "execution_count": 5,
   "metadata": {},
   "outputs": [
    {
     "name": "stdout",
     "output_type": "stream",
     "text": [
      "1. Avengers: Infinity War\n",
      "2. Black Panther\n",
      "3. Spider-Man: Into the Spider-Verse\n",
      "4. Deadpool 2\n",
      "5. A Quiet Place\n"
     ]
    }
   ],
   "source": [
    "url = 'https://www.imdb.com/search/title/?release_date=2018-01-01,2018-12-31&sort=num_votes,desc'\n",
    "headers = {'User-Agent': 'Mozilla/5.0 (Windows NT 10.0; Win64; x64) AppleWebKit/537.36 (KHTML, like Gecko) Chrome/91.0.4472.124 Safari/537.36'}\n",
    "\n",
    "\n",
    "response = requests.get(url,headers=headers)\n",
    "response_data=BeautifulSoup(response.text)\n",
    "\n",
    "counter = 0\n",
    "\n",
    "for section_form in response_data.find_all('ul', {'class': 'ipc-metadata-list ipc-metadata-list--dividers-between sc-748571c8-0 gFCVNT detailed-list-view ipc-metadata-list--base'}):\n",
    "    for class_Data in section_form.find_all('div', {'class': 'sc-54004b59-2 kWfPBG'}):\n",
    "        for data_h3 in class_Data.find_all('div', {'class': 'ipc-title ipc-title--base ipc-title--title ipc-title-link-no-icon ipc-title--on-textPrimary sc-a69a4297-2 bqNXEn dli-title with-margin'}):\n",
    "            for anchor in data_h3.find_all('h3', {'class': 'ipc-title__text'}):\n",
    "                print(anchor.text)\n",
    "                counter += 1\n",
    "                if counter >= 5:\n",
    "                    break\n",
    "            if counter >= 5:\n",
    "                break\n",
    "        if counter >= 5:\n",
    "            break\n",
    "    if counter >= 5:\n",
    "        break\n",
    "\n",
    "\n",
    "\n",
    "\n"
   ]
  }
 ],
 "metadata": {
  "kernelspec": {
   "display_name": "Python 3",
   "language": "python",
   "name": "python3"
  },
  "language_info": {
   "codemirror_mode": {
    "name": "ipython",
    "version": 3
   },
   "file_extension": ".py",
   "mimetype": "text/x-python",
   "name": "python",
   "nbconvert_exporter": "python",
   "pygments_lexer": "ipython3",
   "version": "3.12.3"
  }
 },
 "nbformat": 4,
 "nbformat_minor": 2
}
