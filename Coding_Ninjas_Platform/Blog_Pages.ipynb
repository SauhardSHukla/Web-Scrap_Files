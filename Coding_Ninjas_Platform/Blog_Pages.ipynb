{
 "cells": [
  {
   "cell_type": "markdown",
   "metadata": {},
   "source": [
    "#### Problem statement\n",
    "Link to use\n",
    "\n",
    "Print the title of the first 5 blogs written by Coding Ninjas\n",
    "\n",
    "#### Note : Print the blog names line wise Output Format :\n",
    "blog_name_1\n",
    "blog_name_2\n",
    "blog_name_3\n",
    ".\n",
    "."
   ]
  },
  {
   "cell_type": "code",
   "execution_count": 11,
   "metadata": {},
   "outputs": [],
   "source": [
    "import requests\n",
    "from bs4 import BeautifulSoup\n",
    "import json"
   ]
  },
  {
   "cell_type": "code",
   "execution_count": null,
   "metadata": {},
   "outputs": [
    {
     "name": "stdout",
     "output_type": "stream",
     "text": [
      "Web Development Trends to watch out for in 2020\n",
      "Web Development: Interviews and You!\n"
     ]
    }
   ],
   "source": [
    "URL='https://medium.com/codingninjas-blog'\n",
    "\n",
    "blog = requests.get(URL)\n",
    "blog_soup= BeautifulSoup(blog.text)\n",
    "# print(blog_soup)\n",
    "\n",
    "# class=\"postArticle postArticle--short is-withAccentColors\"\n",
    "for div_data in blog_soup.find_all('div',{'class':\"col u-size8of12 u-xs-size12of12\"}):\n",
    "  # print(div_data)\n",
    "  for div_Article in div_data.find_all('div',{'class':'postArticle postArticle--short is-withAccentColors'}):\n",
    "    # print(div_Article.text)\n",
    "    for div_section in div_Article.find_all('div',{'class':\"section-content\"}):\n",
    "      # print(div_section)\n",
    "      for h3 in div_section.find_all('h3'):\n",
    "        print(h3.text)"
   ]
  }
 ],
 "metadata": {
  "kernelspec": {
   "display_name": "Python 3",
   "language": "python",
   "name": "python3"
  },
  "language_info": {
   "codemirror_mode": {
    "name": "ipython",
    "version": 3
   },
   "file_extension": ".py",
   "mimetype": "text/x-python",
   "name": "python",
   "nbconvert_exporter": "python",
   "pygments_lexer": "ipython3",
   "version": "3.12.3"
  }
 },
 "nbformat": 4,
 "nbformat_minor": 2
}
