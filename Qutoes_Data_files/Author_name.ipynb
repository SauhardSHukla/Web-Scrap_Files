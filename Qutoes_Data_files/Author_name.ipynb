{
 "cells": [
  {
   "cell_type": "markdown",
   "metadata": {},
   "source": [
    "#### Problem statement\n",
    "Find and print the names of all the different authors from all pages of this website\n",
    "\n",
    "Note : Print the names of all authors line wise sorted in dictionary order\n",
    "\n",
    "#### Output Format :\n",
    "author1\n",
    "author2\n",
    "author3\n",
    ".\n",
    ".\n",
    "."
   ]
  },
  {
   "cell_type": "code",
   "execution_count": 2,
   "metadata": {},
   "outputs": [],
   "source": [
    "import requests\n",
    "from bs4 import BeautifulSoup"
   ]
  },
  {
   "cell_type": "code",
   "execution_count": 3,
   "metadata": {},
   "outputs": [
    {
     "name": "stdout",
     "output_type": "stream",
     "text": [
      "Albert Einstein\n",
      "J.K. Rowling\n",
      "Albert Einstein\n",
      "Jane Austen\n",
      "Marilyn Monroe\n",
      "Albert Einstein\n",
      "André Gide\n",
      "Thomas A. Edison\n",
      "Eleanor Roosevelt\n",
      "Steve Martin\n"
     ]
    }
   ],
   "source": [
    "URL = 'http://quotes.toscrape.com/'\n",
    "\n",
    "response = requests.get(URL)\n",
    "response_data=BeautifulSoup(response.text)\n",
    "# print(response_data)\n",
    "for container_Data in response_data.find_all('div',{'class':'col-md-8'}):\n",
    "  # print(container_Data)\n",
    "  for div_data in container_Data.find_all('div',{'class':'quote'}):\n",
    "    # print(div_data.text)\n",
    "    # for author in div_data.find_all('span',{'class':'author'}):\n",
    "      for author_name in div_data.find_all('small',{'class':'author'}):\n",
    "         print(author_name.text)"
   ]
  }
 ],
 "metadata": {
  "kernelspec": {
   "display_name": "Python 3",
   "language": "python",
   "name": "python3"
  },
  "language_info": {
   "codemirror_mode": {
    "name": "ipython",
    "version": 3
   },
   "file_extension": ".py",
   "mimetype": "text/x-python",
   "name": "python",
   "nbconvert_exporter": "python",
   "pygments_lexer": "ipython3",
   "version": "3.12.3"
  }
 },
 "nbformat": 4,
 "nbformat_minor": 2
}
