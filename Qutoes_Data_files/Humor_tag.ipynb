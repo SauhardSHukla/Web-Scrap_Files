{
 "cells": [
  {
   "cell_type": "markdown",
   "metadata": {},
   "source": [
    "#### Problem statement\n",
    "Find all the quotes that have the tag as \"humor\" from this website\n",
    "\n",
    "#### Output Format :\n",
    "quote1\n",
    "quote2\n",
    "quote3\n",
    ".\n",
    ".\n",
    "."
   ]
  },
  {
   "cell_type": "code",
   "execution_count": 26,
   "metadata": {},
   "outputs": [],
   "source": [
    "import requests\n",
    "from bs4 import BeautifulSoup"
   ]
  },
  {
   "cell_type": "code",
   "execution_count": null,
   "metadata": {},
   "outputs": [
    {
     "name": "stdout",
     "output_type": "stream",
     "text": [
      "“The person, be it gentleman or lady, who has not pleasure in a good novel, must be intolerably stupid.”\n",
      "“A day without sunshine is like, you know, night.”\n"
     ]
    }
   ],
   "source": [
    "URL ='http://quotes.toscrape.com/'\n",
    "\n",
    "response  = requests.get(URL)\n",
    "response_data = BeautifulSoup(response.text)\n",
    "# print(response_data)\n",
    "tags_dta =[]\n",
    "\n",
    "for i in response_data.find_all('div',{'class':'col-md-8'}):\n",
    "  for div_data in i.find_all('div',{'class':'quote'}):\n",
    "    for tage_text in div_data.find_all('span',{'class':'text'}):\n",
    "      for j in div_data.find_all('div',{'class':'tags'}):\n",
    "        data=[]\n",
    "        for meta in j.find_all('a',{'class':'tag'}):\n",
    "          data.append(meta.text)\n",
    "        file=set(data)\n",
    "        # print(file)\n",
    "  \n",
    "        for data_name in file:\n",
    "          if data_name =='humor':\n",
    "            print(tage_text.text)\n",
    "              \n",
    "\n",
    "\n",
    "          \n",
    "\n",
    "              \n",
    "      \n",
    "# print(tags_dta)"
   ]
  }
 ],
 "metadata": {
  "kernelspec": {
   "display_name": "Python 3",
   "language": "python",
   "name": "python3"
  },
  "language_info": {
   "codemirror_mode": {
    "name": "ipython",
    "version": 3
   },
   "file_extension": ".py",
   "mimetype": "text/x-python",
   "name": "python",
   "nbconvert_exporter": "python",
   "pygments_lexer": "ipython3",
   "version": "3.12.3"
  }
 },
 "nbformat": 4,
 "nbformat_minor": 2
}
