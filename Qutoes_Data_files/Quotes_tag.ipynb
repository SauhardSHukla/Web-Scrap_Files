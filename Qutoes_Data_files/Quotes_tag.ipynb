{
 "cells": [
  {
   "cell_type": "markdown",
   "metadata": {},
   "source": [
    "#### Problem statement\n",
    "Find all the quotes by Albert Einstein(in the order they appear on the page) from this website\n",
    "\n",
    "#### Note : Fetch data from first page.\n",
    "\n",
    "Output Format :\n",
    "quote1\n",
    "quote2\n",
    "quote3\n",
    ".\n",
    ".\n",
    "."
   ]
  },
  {
   "cell_type": "code",
   "execution_count": 1,
   "metadata": {},
   "outputs": [],
   "source": [
    "import requests\n",
    "from bs4 import BeautifulSoup"
   ]
  },
  {
   "cell_type": "code",
   "execution_count": 17,
   "metadata": {},
   "outputs": [
    {
     "name": "stdout",
     "output_type": "stream",
     "text": [
      "“The world as we have created it is a process of our thinking. It cannot be changed without changing our thinking.”\n",
      "“There are only two ways to live your life. One is as though nothing is a miracle. The other is as though everything is a miracle.”\n",
      "“Try not to become a man of success. Rather become a man of value.”\n"
     ]
    }
   ],
   "source": [
    "URL = 'http://quotes.toscrape.com/'\n",
    "\n",
    "response = requests.get(URL)\n",
    "response_data=BeautifulSoup(response.text)\n",
    "# print(response_data)\n",
    "for container_Data in response_data.find_all('div',{'class':'col-md-8'}):\n",
    "  # print(container_Data)\n",
    "  for div_data in container_Data.find_all('div',{'class':'quote'}):\n",
    "    # print(div_data.text)\n",
    "    # for author in div_data.find_all('span',{'class':'author'}):\n",
    "      for author_name in div_data.find_all('small',{'class':'author'}):\n",
    "         if author_name.text == 'Albert Einstein':\n",
    "            for author_name in div_data.find_all('span',{'class':'text'}):\n",
    "               print(author_name.text)\n",
    "# col-md-8"
   ]
  },
  {
   "cell_type": "markdown",
   "metadata": {},
   "source": [
    "#### Problem statement\n",
    "Find all the quotes by Albert Einstein(in the order they appear on the page) from this website\n",
    "\n",
    "#### Note : Fetch data from all the pages.\n",
    "\n",
    "Output Format :\n",
    "quote1\n",
    "quote2\n",
    "quote3\n",
    ".\n",
    ".\n",
    "."
   ]
  },
  {
   "cell_type": "code",
   "execution_count": null,
   "metadata": {},
   "outputs": [
    {
     "name": "stdout",
     "output_type": "stream",
     "text": [
      "“The world as we have created it is a process of our thinking. It cannot be changed without changing our thinking.”\n",
      "“There are only two ways to live your life. One is as though nothing is a miracle. The other is as though everything is a miracle.”\n",
      "“Try not to become a man of success. Rather become a man of value.”\n",
      "“If you can't explain it to a six year old, you don't understand it yourself.”\n",
      "“If you want your children to be intelligent, read them fairy tales. If you want them to be more intelligent, read them more fairy tales.”\n",
      "“Logic will get you from A to Z; imagination will get you everywhere.”\n",
      "“Any fool can know. The point is to understand.”\n",
      "“Life is like riding a bicycle. To keep your balance, you must keep moving.”\n",
      "“If I were not a physicist, I would probably be a musician. I often think in music. I live my daydreams in music. I see my life in terms of music.”\n",
      "“Anyone who has never made a mistake has never tried anything new.”\n"
     ]
    }
   ],
   "source": [
    "# Importing the necessary libraries\n",
    "import requests  # Used for sending HTTP requests to fetch the webpage content\n",
    "import time  # This library is imported but not used in the code (could be for adding delays between requests)\n",
    "from bs4 import BeautifulSoup  # BeautifulSoup is used to parse the HTML content of the webpage\n",
    "from random import randint  # Random is imported but not used (potentially for adding delays or randomizing something in the future)\n",
    "\n",
    "# A set to store unique authors (not used in the current implementation)\n",
    "authors = set()\n",
    "\n",
    "# A list to store quotes by Albert Einstein\n",
    "quotes = []\n",
    "\n",
    "# Loop to scrape multiple pages (page 1 to 10)\n",
    "for i in range(1, 11):\n",
    "    # Sending an HTTP GET request to the webpage of each page number\n",
    "    page = requests.get(\"http://quotes.toscrape.com/page/\" + str(i) + \"/\")\n",
    "    \n",
    "    # Parsing the HTML content of the page using BeautifulSoup\n",
    "    soup = BeautifulSoup(page.content, 'html.parser')\n",
    "    \n",
    "    # Selecting all elements with the class \"quote\" which contain the quotes on the page\n",
    "    for ele in soup.select(\".quote\"):\n",
    "        # Check if the author's name is \"Albert Einstein\"\n",
    "        if ele.find(\"small\", class_=\"author\").text == \"Albert Einstein\":\n",
    "            # If the author is Albert Einstein, extract the quote (found in <span> with class=\"text\")\n",
    "            quotes.append(ele.find(\"span\", class_=\"text\").text)\n",
    "\n",
    "# Loop through all the quotes collected and print them\n",
    "for i in quotes:\n",
    "    print(i)  "
   ]
  }
 ],
 "metadata": {
  "kernelspec": {
   "display_name": "Python 3",
   "language": "python",
   "name": "python3"
  },
  "language_info": {
   "codemirror_mode": {
    "name": "ipython",
    "version": 3
   },
   "file_extension": ".py",
   "mimetype": "text/x-python",
   "name": "python",
   "nbconvert_exporter": "python",
   "pygments_lexer": "ipython3",
   "version": "3.12.3"
  }
 },
 "nbformat": 4,
 "nbformat_minor": 2
}
