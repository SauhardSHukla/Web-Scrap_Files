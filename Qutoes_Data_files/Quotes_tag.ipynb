{
 "cells": [
  {
   "cell_type": "markdown",
   "metadata": {},
   "source": [
    "#### Problem statement\n",
    "Find all the quotes by Albert Einstein(in the order they appear on the page) from this website\n",
    "\n",
    "#### Note : Fetch data from all the pages.\n",
    "\n",
    "Output Format :\n",
    "quote1\n",
    "quote2\n",
    "quote3\n",
    ".\n",
    ".\n",
    "."
   ]
  },
  {
   "cell_type": "code",
   "execution_count": 1,
   "metadata": {},
   "outputs": [],
   "source": [
    "import requests\n",
    "from bs4 import BeautifulSoup"
   ]
  },
  {
   "cell_type": "code",
   "execution_count": 17,
   "metadata": {},
   "outputs": [
    {
     "name": "stdout",
     "output_type": "stream",
     "text": [
      "“The world as we have created it is a process of our thinking. It cannot be changed without changing our thinking.”\n",
      "“There are only two ways to live your life. One is as though nothing is a miracle. The other is as though everything is a miracle.”\n",
      "“Try not to become a man of success. Rather become a man of value.”\n"
     ]
    }
   ],
   "source": [
    "URL = 'http://quotes.toscrape.com/'\n",
    "\n",
    "response = requests.get(URL)\n",
    "response_data=BeautifulSoup(response.text)\n",
    "# print(response_data)\n",
    "for container_Data in response_data.find_all('div',{'class':'col-md-8'}):\n",
    "  # print(container_Data)\n",
    "  for div_data in container_Data.find_all('div',{'class':'quote'}):\n",
    "    # print(div_data.text)\n",
    "    # for author in div_data.find_all('span',{'class':'author'}):\n",
    "      for author_name in div_data.find_all('small',{'class':'author'}):\n",
    "         if author_name.text == 'Albert Einstein':\n",
    "            for author_name in div_data.find_all('span',{'class':'text'}):\n",
    "               print(author_name.text)\n",
    "# col-md-8"
   ]
  }
 ],
 "metadata": {
  "kernelspec": {
   "display_name": "Python 3",
   "language": "python",
   "name": "python3"
  },
  "language_info": {
   "codemirror_mode": {
    "name": "ipython",
    "version": 3
   },
   "file_extension": ".py",
   "mimetype": "text/x-python",
   "name": "python",
   "nbconvert_exporter": "python",
   "pygments_lexer": "ipython3",
   "version": "3.12.3"
  }
 },
 "nbformat": 4,
 "nbformat_minor": 2
}
